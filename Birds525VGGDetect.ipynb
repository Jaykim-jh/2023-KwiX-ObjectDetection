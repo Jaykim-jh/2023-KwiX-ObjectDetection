{
 "cells": [
  {
   "cell_type": "code",
   "execution_count": 21,
   "metadata": {},
   "outputs": [
    {
     "data": {
      "text/plain": [
       "'2.10.0'"
      ]
     },
     "execution_count": 21,
     "metadata": {},
     "output_type": "execute_result"
    }
   ],
   "source": [
    "import tensorflow as tf\n",
    "tf.__version__"
   ]
  },
  {
   "cell_type": "code",
   "execution_count": 22,
   "metadata": {},
   "outputs": [
    {
     "name": "stdout",
     "output_type": "stream",
     "text": [
      "True\n",
      "True\n",
      "/device:GPU:0\n"
     ]
    }
   ],
   "source": [
    "print(tf.test.is_built_with_cuda())\n",
    "print(tf.test.is_built_with_gpu_support())\n",
    "print(tf.test.gpu_device_name())"
   ]
  },
  {
   "cell_type": "code",
   "execution_count": 23,
   "metadata": {},
   "outputs": [
    {
     "data": {
      "text/plain": [
       "[name: \"/device:CPU:0\"\n",
       " device_type: \"CPU\"\n",
       " memory_limit: 268435456\n",
       " locality {\n",
       " }\n",
       " incarnation: 3677719245060323930\n",
       " xla_global_id: -1,\n",
       " name: \"/device:GPU:0\"\n",
       " device_type: \"GPU\"\n",
       " memory_limit: 10067378176\n",
       " locality {\n",
       "   bus_id: 1\n",
       "   links {\n",
       "   }\n",
       " }\n",
       " incarnation: 15968601184145312786\n",
       " physical_device_desc: \"device: 0, name: NVIDIA GeForce RTX 3060, pci bus id: 0000:2b:00.0, compute capability: 8.6\"\n",
       " xla_global_id: 416903419]"
      ]
     },
     "execution_count": 23,
     "metadata": {},
     "output_type": "execute_result"
    }
   ],
   "source": [
    "from tensorflow.python.client import device_lib\n",
    "device_lib.list_local_devices()"
   ]
  },
  {
   "cell_type": "code",
   "execution_count": 24,
   "metadata": {},
   "outputs": [],
   "source": [
    "import numpy as np \n",
    "import pandas as pd \n",
    "import os\n",
    "from tensorflow.keras.preprocessing.image import ImageDataGenerator, load_img, img_to_array\n",
    "from keras.models import Sequential, Model\n",
    "from keras.optimizers import Adam\n",
    "from keras.losses import categorical_crossentropy\n",
    "from keras.layers import Conv2D, MaxPooling2D, Dense, GlobalAveragePooling2D, Dropout, Flatten\n",
    "import matplotlib.pyplot as plt"
   ]
  },
  {
   "cell_type": "code",
   "execution_count": 25,
   "metadata": {},
   "outputs": [],
   "source": [
    "train_ds=\"C:\\Download/Birds525/train\"\n",
    "test_ds=\"C:\\Download/Birds525/test\"\n",
    "validation_ds=\"C:\\Download/Birds525/valid\""
   ]
  },
  {
   "cell_type": "code",
   "execution_count": 26,
   "metadata": {},
   "outputs": [],
   "source": [
    "train_datagen = ImageDataGenerator(rescale = 1./255) #initialize train generator \n",
    "valid_datagen = ImageDataGenerator(rescale = 1.0/255.) #initialize validation generator \n",
    "test_datagen = ImageDataGenerator(rescale = 1.0/255.) #initialize test generator"
   ]
  },
  {
   "cell_type": "code",
   "execution_count": 27,
   "metadata": {},
   "outputs": [
    {
     "name": "stdout",
     "output_type": "stream",
     "text": [
      "Found 84635 images belonging to 525 classes.\n",
      "Found 2625 images belonging to 525 classes.\n",
      "Found 2625 images belonging to 525 classes.\n"
     ]
    }
   ],
   "source": [
    "train_datagen = ImageDataGenerator(zoom_range=0.15,width_shift_range=0.2,height_shift_range=0.2,shear_range=0.15)\n",
    "test_datagen = ImageDataGenerator()\n",
    "valid_datagen = ImageDataGenerator()\n",
    "\n",
    "train_generator = train_datagen.flow_from_directory(train_ds,target_size=(224, 224),batch_size=32,shuffle=True,class_mode='categorical')\n",
    "test_generator = test_datagen.flow_from_directory(test_ds,target_size=(224,224),batch_size=32,shuffle=False,class_mode='categorical')\n",
    "validation_generator = valid_datagen.flow_from_directory(validation_ds,target_size=(224,224),batch_size=32,shuffle=False,class_mode='categorical')"
   ]
  },
  {
   "cell_type": "code",
   "execution_count": 28,
   "metadata": {},
   "outputs": [
    {
     "data": {
      "text/plain": [
       "(32, 224, 224, 3)"
      ]
     },
     "execution_count": 28,
     "metadata": {},
     "output_type": "execute_result"
    }
   ],
   "source": [
    "train_generator[0][0].shape"
   ]
  },
  {
   "cell_type": "code",
   "execution_count": 29,
   "metadata": {},
   "outputs": [
    {
     "name": "stdout",
     "output_type": "stream",
     "text": [
      "2645\n",
      "25\n",
      "26\n"
     ]
    }
   ],
   "source": [
    "print(len(train_generator))\n",
    "print(len(test_ds))\n",
    "print(len(validation_ds))"
   ]
  },
  {
   "cell_type": "code",
   "execution_count": 30,
   "metadata": {},
   "outputs": [],
   "source": [
    "# VGG 19 Model\n",
    "class VGG19(Sequential):\n",
    "    def __init__(self, input_shape):\n",
    "        super().__init__()\n",
    "\n",
    "        self.add(Conv2D(64, kernel_size=(3,3), padding= 'same', activation= 'relu', input_shape= input_shape))\n",
    "        self.add(Conv2D(64, kernel_size=(3,3), padding= 'same', activation= 'relu'))\n",
    "        self.add(MaxPooling2D(pool_size=(2,2), strides= (2,2)))\n",
    "        \n",
    "        self.add(Conv2D(128, kernel_size=(3,3), padding= 'same', activation= 'relu'))\n",
    "        self.add(Conv2D(128, kernel_size=(3,3), padding= 'same', activation= 'relu'))\n",
    "        self.add(MaxPooling2D(pool_size=(2,2), strides= (2,2)))\n",
    "        \n",
    "        self.add(Conv2D(256, kernel_size=(3,3), padding= 'same', activation= 'relu'))\n",
    "        self.add(Conv2D(256, kernel_size=(3,3), padding= 'same', activation= 'relu'))\n",
    "        self.add(Conv2D(256, kernel_size=(3,3), padding= 'same', activation= 'relu'))\n",
    "        self.add(Conv2D(256, kernel_size=(3,3), padding= 'same', activation= 'relu'))\n",
    "        self.add(MaxPooling2D(pool_size=(2,2), strides= (2,2)))\n",
    "        \n",
    "        self.add(Conv2D(512, kernel_size=(3,3), padding= 'same', activation= 'relu'))\n",
    "        self.add(Conv2D(512, kernel_size=(3,3), padding= 'same', activation= 'relu'))\n",
    "        self.add(Conv2D(512, kernel_size=(3,3), padding= 'same', activation= 'relu'))\n",
    "        self.add(Conv2D(512, kernel_size=(3,3), padding= 'same', activation= 'relu'))\n",
    "        self.add(MaxPooling2D(pool_size=(2,2), strides= (2,2)))\n",
    "        \n",
    "        self.add(Conv2D(512, kernel_size=(3,3), padding= 'same', activation= 'relu'))\n",
    "        self.add(Conv2D(512, kernel_size=(3,3), padding= 'same', activation= 'relu'))\n",
    "        self.add(Conv2D(512, kernel_size=(3,3), padding= 'same', activation= 'relu'))\n",
    "        self.add(Conv2D(512, kernel_size=(3,3), padding= 'same', activation= 'relu'))\n",
    "        self.add(MaxPooling2D(pool_size=(2,2), strides= (2,2)))\n",
    "\n",
    "        self.add(Flatten())\n",
    "        self.add(Dense(4096, activation= 'relu'))\n",
    "        self.add(Dropout(0.5))\n",
    "        self.add(Dense(4096, activation= 'relu'))\n",
    "        self.add(Dropout(0.5))\n",
    "        self.add(Dense(525, activation= 'softmax'))\n",
    "\n",
    "        self.compile(optimizer = Adam(0.003),\n",
    "                     loss = 'categorical_crossentropy',\n",
    "                     metrics = ['accuracy'])"
   ]
  },
  {
   "cell_type": "code",
   "execution_count": 31,
   "metadata": {},
   "outputs": [
    {
     "name": "stdout",
     "output_type": "stream",
     "text": [
      "Model: \"vgg19_1\"\n",
      "_________________________________________________________________\n",
      " Layer (type)                Output Shape              Param #   \n",
      "=================================================================\n",
      " conv2d_16 (Conv2D)          (None, 224, 224, 64)      1792      \n",
      "                                                                 \n",
      " conv2d_17 (Conv2D)          (None, 224, 224, 64)      36928     \n",
      "                                                                 \n",
      " max_pooling2d_5 (MaxPooling  (None, 112, 112, 64)     0         \n",
      " 2D)                                                             \n",
      "                                                                 \n",
      " conv2d_18 (Conv2D)          (None, 112, 112, 128)     73856     \n",
      "                                                                 \n",
      " conv2d_19 (Conv2D)          (None, 112, 112, 128)     147584    \n",
      "                                                                 \n",
      " max_pooling2d_6 (MaxPooling  (None, 56, 56, 128)      0         \n",
      " 2D)                                                             \n",
      "                                                                 \n",
      " conv2d_20 (Conv2D)          (None, 56, 56, 256)       295168    \n",
      "                                                                 \n",
      " conv2d_21 (Conv2D)          (None, 56, 56, 256)       590080    \n",
      "                                                                 \n",
      " conv2d_22 (Conv2D)          (None, 56, 56, 256)       590080    \n",
      "                                                                 \n",
      " conv2d_23 (Conv2D)          (None, 56, 56, 256)       590080    \n",
      "                                                                 \n",
      " max_pooling2d_7 (MaxPooling  (None, 28, 28, 256)      0         \n",
      " 2D)                                                             \n",
      "                                                                 \n",
      " conv2d_24 (Conv2D)          (None, 28, 28, 512)       1180160   \n",
      "                                                                 \n",
      " conv2d_25 (Conv2D)          (None, 28, 28, 512)       2359808   \n",
      "                                                                 \n",
      " conv2d_26 (Conv2D)          (None, 28, 28, 512)       2359808   \n",
      "                                                                 \n",
      " conv2d_27 (Conv2D)          (None, 28, 28, 512)       2359808   \n",
      "                                                                 \n",
      " max_pooling2d_8 (MaxPooling  (None, 14, 14, 512)      0         \n",
      " 2D)                                                             \n",
      "                                                                 \n",
      " conv2d_28 (Conv2D)          (None, 14, 14, 512)       2359808   \n",
      "                                                                 \n",
      " conv2d_29 (Conv2D)          (None, 14, 14, 512)       2359808   \n",
      "                                                                 \n",
      " conv2d_30 (Conv2D)          (None, 14, 14, 512)       2359808   \n",
      "                                                                 \n",
      " conv2d_31 (Conv2D)          (None, 14, 14, 512)       2359808   \n",
      "                                                                 \n",
      " max_pooling2d_9 (MaxPooling  (None, 7, 7, 512)        0         \n",
      " 2D)                                                             \n",
      "                                                                 \n",
      " flatten_1 (Flatten)         (None, 25088)             0         \n",
      "                                                                 \n",
      " dense_3 (Dense)             (None, 4096)              102764544 \n",
      "                                                                 \n",
      " dropout_2 (Dropout)         (None, 4096)              0         \n",
      "                                                                 \n",
      " dense_4 (Dense)             (None, 4096)              16781312  \n",
      "                                                                 \n",
      " dropout_3 (Dropout)         (None, 4096)              0         \n",
      "                                                                 \n",
      " dense_5 (Dense)             (None, 525)               2150925   \n",
      "                                                                 \n",
      "=================================================================\n",
      "Total params: 141,721,165\n",
      "Trainable params: 141,721,165\n",
      "Non-trainable params: 0\n",
      "_________________________________________________________________\n"
     ]
    }
   ],
   "source": [
    "model = VGG19((224, 224, 3))\n",
    "model.summary()"
   ]
  },
  {
   "cell_type": "code",
   "execution_count": 32,
   "metadata": {},
   "outputs": [],
   "source": [
    "opt = Adam(learning_rate = 0.00001)\n",
    "model.compile(optimizer = opt, loss = categorical_crossentropy, metrics = ['accuracy'])"
   ]
  },
  {
   "cell_type": "code",
   "execution_count": 33,
   "metadata": {},
   "outputs": [
    {
     "name": "stdout",
     "output_type": "stream",
     "text": [
      "Epoch 1/40\n",
      "2645/2645 [==============================] - 1280s 484ms/step - loss: 6.1773 - accuracy: 0.0039 - val_loss: 5.9219 - val_accuracy: 0.0091\n",
      "Epoch 2/40\n",
      "2645/2645 [==============================] - 1235s 467ms/step - loss: 5.8613 - accuracy: 0.0100 - val_loss: 5.4034 - val_accuracy: 0.0347\n",
      "Epoch 3/40\n",
      "2645/2645 [==============================] - 1237s 468ms/step - loss: 5.4435 - accuracy: 0.0282 - val_loss: 4.5504 - val_accuracy: 0.1017\n",
      "Epoch 4/40\n",
      "2645/2645 [==============================] - 1223s 462ms/step - loss: 4.9129 - accuracy: 0.0684 - val_loss: 3.9027 - val_accuracy: 0.2004\n",
      "Epoch 5/40\n",
      "2645/2645 [==============================] - 1210s 457ms/step - loss: 4.4463 - accuracy: 0.1161 - val_loss: 3.4628 - val_accuracy: 0.2804\n",
      "Epoch 6/40\n",
      "2645/2645 [==============================] - 1222s 462ms/step - loss: 4.0778 - accuracy: 0.1640 - val_loss: 2.9318 - val_accuracy: 0.3657\n",
      "Epoch 7/40\n",
      "2645/2645 [==============================] - 1243s 470ms/step - loss: 3.7490 - accuracy: 0.2138 - val_loss: 2.6382 - val_accuracy: 0.4236\n",
      "Epoch 8/40\n",
      "2645/2645 [==============================] - 1243s 470ms/step - loss: 3.4640 - accuracy: 0.2614 - val_loss: 2.3943 - val_accuracy: 0.4770\n",
      "Epoch 9/40\n",
      "2645/2645 [==============================] - 1243s 470ms/step - loss: 3.2025 - accuracy: 0.3052 - val_loss: 2.1090 - val_accuracy: 0.5189\n",
      "Epoch 10/40\n",
      "2645/2645 [==============================] - 1241s 469ms/step - loss: 2.9829 - accuracy: 0.3431 - val_loss: 2.0014 - val_accuracy: 0.5451\n",
      "Epoch 11/40\n",
      "2645/2645 [==============================] - 1211s 458ms/step - loss: 2.7823 - accuracy: 0.3802 - val_loss: 1.6608 - val_accuracy: 0.6107\n",
      "Epoch 12/40\n",
      "2645/2645 [==============================] - 1211s 458ms/step - loss: 2.5943 - accuracy: 0.4171 - val_loss: 1.6914 - val_accuracy: 0.6160\n",
      "Epoch 13/40\n",
      "2645/2645 [==============================] - 1214s 459ms/step - loss: 2.4402 - accuracy: 0.4432 - val_loss: 1.4802 - val_accuracy: 0.6545\n",
      "Epoch 14/40\n",
      "2645/2645 [==============================] - 1209s 457ms/step - loss: 2.2801 - accuracy: 0.4769 - val_loss: 1.3864 - val_accuracy: 0.6785\n",
      "Epoch 15/40\n",
      "2645/2645 [==============================] - 1209s 457ms/step - loss: 2.1511 - accuracy: 0.5022 - val_loss: 1.2220 - val_accuracy: 0.7093\n",
      "Epoch 16/40\n",
      "2645/2645 [==============================] - 1214s 459ms/step - loss: 2.0205 - accuracy: 0.5283 - val_loss: 1.3112 - val_accuracy: 0.7055\n",
      "Epoch 17/40\n",
      "2645/2645 [==============================] - 1213s 458ms/step - loss: 1.9012 - accuracy: 0.5518 - val_loss: 1.2102 - val_accuracy: 0.7162\n",
      "Epoch 18/40\n",
      "2645/2645 [==============================] - 1212s 458ms/step - loss: 1.8062 - accuracy: 0.5721 - val_loss: 1.1495 - val_accuracy: 0.7368\n",
      "Epoch 19/40\n",
      "2645/2645 [==============================] - 1213s 458ms/step - loss: 1.7050 - accuracy: 0.5930 - val_loss: 1.0073 - val_accuracy: 0.7558\n",
      "Epoch 20/40\n",
      "2645/2645 [==============================] - 1243s 470ms/step - loss: 1.6202 - accuracy: 0.6122 - val_loss: 0.9914 - val_accuracy: 0.7585\n",
      "Epoch 21/40\n",
      "2645/2645 [==============================] - 1228s 464ms/step - loss: 1.5323 - accuracy: 0.6274 - val_loss: 0.9987 - val_accuracy: 0.7634\n",
      "Epoch 22/40\n",
      "2645/2645 [==============================] - 1215s 459ms/step - loss: 1.4530 - accuracy: 0.6472 - val_loss: 0.8408 - val_accuracy: 0.7958\n",
      "Epoch 23/40\n",
      "2645/2645 [==============================] - 1213s 458ms/step - loss: 1.3752 - accuracy: 0.6621 - val_loss: 0.9448 - val_accuracy: 0.7710\n",
      "Epoch 24/40\n",
      "2645/2645 [==============================] - 1213s 459ms/step - loss: 1.3188 - accuracy: 0.6744 - val_loss: 0.8407 - val_accuracy: 0.8000\n",
      "Epoch 25/40\n",
      "2645/2645 [==============================] - 1213s 459ms/step - loss: 1.2529 - accuracy: 0.6873 - val_loss: 0.9015 - val_accuracy: 0.8027\n",
      "Epoch 26/40\n",
      "2645/2645 [==============================] - 1213s 459ms/step - loss: 1.1939 - accuracy: 0.7014 - val_loss: 0.8337 - val_accuracy: 0.7996\n",
      "Epoch 27/40\n",
      "2645/2645 [==============================] - 1213s 459ms/step - loss: 1.1322 - accuracy: 0.7151 - val_loss: 0.7913 - val_accuracy: 0.8091\n",
      "Epoch 28/40\n",
      "2645/2645 [==============================] - 1210s 458ms/step - loss: 1.0842 - accuracy: 0.7270 - val_loss: 0.7425 - val_accuracy: 0.8210\n",
      "Epoch 29/40\n",
      "2645/2645 [==============================] - 1213s 459ms/step - loss: 1.0333 - accuracy: 0.7385 - val_loss: 0.7449 - val_accuracy: 0.8217\n",
      "Epoch 30/40\n",
      "2645/2645 [==============================] - 1214s 459ms/step - loss: 0.9878 - accuracy: 0.7465 - val_loss: 0.6861 - val_accuracy: 0.8350\n",
      "Epoch 31/40\n",
      "2645/2645 [==============================] - 1212s 458ms/step - loss: 0.9480 - accuracy: 0.7578 - val_loss: 0.7323 - val_accuracy: 0.8259\n",
      "Epoch 32/40\n",
      "2645/2645 [==============================] - 1212s 458ms/step - loss: 0.9093 - accuracy: 0.7660 - val_loss: 0.6285 - val_accuracy: 0.8476\n",
      "Epoch 33/40\n",
      "2645/2645 [==============================] - 1213s 458ms/step - loss: 0.8636 - accuracy: 0.7727 - val_loss: 0.6967 - val_accuracy: 0.8278\n",
      "Epoch 34/40\n",
      "2645/2645 [==============================] - 1211s 458ms/step - loss: 0.8310 - accuracy: 0.7826 - val_loss: 0.6100 - val_accuracy: 0.8533\n",
      "Epoch 35/40\n",
      "2645/2645 [==============================] - 1215s 459ms/step - loss: 0.7909 - accuracy: 0.7913 - val_loss: 0.6524 - val_accuracy: 0.8476\n",
      "Epoch 36/40\n",
      "2645/2645 [==============================] - 1234s 466ms/step - loss: 0.7583 - accuracy: 0.7993 - val_loss: 0.6463 - val_accuracy: 0.8415\n",
      "Epoch 37/40\n",
      "2645/2645 [==============================] - 1239s 468ms/step - loss: 0.7211 - accuracy: 0.8094 - val_loss: 0.6646 - val_accuracy: 0.8484\n",
      "Epoch 38/40\n",
      "2645/2645 [==============================] - 1243s 470ms/step - loss: 0.6977 - accuracy: 0.8149 - val_loss: 0.5791 - val_accuracy: 0.8651\n",
      "Epoch 39/40\n",
      "2645/2645 [==============================] - 1272s 481ms/step - loss: 0.6734 - accuracy: 0.8193 - val_loss: 0.6062 - val_accuracy: 0.8556\n",
      "Epoch 40/40\n",
      "2645/2645 [==============================] - 1279s 484ms/step - loss: 0.6424 - accuracy: 0.8292 - val_loss: 0.6495 - val_accuracy: 0.8526\n"
     ]
    }
   ],
   "source": [
    "history = model.fit(train_generator, validation_data = validation_generator, batch_size= 256, epochs=40)"
   ]
  },
  {
   "cell_type": "code",
   "execution_count": 34,
   "metadata": {},
   "outputs": [
    {
     "data": {
      "text/plain": [
       "525"
      ]
     },
     "execution_count": 34,
     "metadata": {},
     "output_type": "execute_result"
    }
   ],
   "source": [
    "n_categories = len(os.listdir(\"C:\\Download/Birds525/train\")) # number of categories print(n_categories)\n",
    "n_categories"
   ]
  },
  {
   "cell_type": "code",
   "execution_count": 35,
   "metadata": {},
   "outputs": [
    {
     "data": {
      "text/html": [
       "<div>\n",
       "<style scoped>\n",
       "    .dataframe tbody tr th:only-of-type {\n",
       "        vertical-align: middle;\n",
       "    }\n",
       "\n",
       "    .dataframe tbody tr th {\n",
       "        vertical-align: top;\n",
       "    }\n",
       "\n",
       "    .dataframe thead th {\n",
       "        text-align: right;\n",
       "    }\n",
       "</style>\n",
       "<table border=\"1\" class=\"dataframe\">\n",
       "  <thead>\n",
       "    <tr style=\"text-align: right;\">\n",
       "      <th></th>\n",
       "      <th>loss</th>\n",
       "      <th>accuracy</th>\n",
       "      <th>val_loss</th>\n",
       "      <th>val_accuracy</th>\n",
       "    </tr>\n",
       "  </thead>\n",
       "  <tbody>\n",
       "    <tr>\n",
       "      <th>0</th>\n",
       "      <td>6.177294</td>\n",
       "      <td>0.003875</td>\n",
       "      <td>5.921937</td>\n",
       "      <td>0.009143</td>\n",
       "    </tr>\n",
       "    <tr>\n",
       "      <th>1</th>\n",
       "      <td>5.861306</td>\n",
       "      <td>0.010031</td>\n",
       "      <td>5.403445</td>\n",
       "      <td>0.034667</td>\n",
       "    </tr>\n",
       "    <tr>\n",
       "      <th>2</th>\n",
       "      <td>5.443474</td>\n",
       "      <td>0.028239</td>\n",
       "      <td>4.550364</td>\n",
       "      <td>0.101714</td>\n",
       "    </tr>\n",
       "    <tr>\n",
       "      <th>3</th>\n",
       "      <td>4.912913</td>\n",
       "      <td>0.068400</td>\n",
       "      <td>3.902741</td>\n",
       "      <td>0.200381</td>\n",
       "    </tr>\n",
       "    <tr>\n",
       "      <th>4</th>\n",
       "      <td>4.446350</td>\n",
       "      <td>0.116075</td>\n",
       "      <td>3.462848</td>\n",
       "      <td>0.280381</td>\n",
       "    </tr>\n",
       "  </tbody>\n",
       "</table>\n",
       "</div>"
      ],
      "text/plain": [
       "       loss  accuracy  val_loss  val_accuracy\n",
       "0  6.177294  0.003875  5.921937      0.009143\n",
       "1  5.861306  0.010031  5.403445      0.034667\n",
       "2  5.443474  0.028239  4.550364      0.101714\n",
       "3  4.912913  0.068400  3.902741      0.200381\n",
       "4  4.446350  0.116075  3.462848      0.280381"
      ]
     },
     "execution_count": 35,
     "metadata": {},
     "output_type": "execute_result"
    }
   ],
   "source": [
    "results =pd.DataFrame(history.history)\n",
    "results.head()"
   ]
  },
  {
   "cell_type": "code",
   "execution_count": 36,
   "metadata": {},
   "outputs": [
    {
     "data": {
      "image/png": "[encoded data removed]",
      "text/plain": [
       "<Figure size 1500x600 with 1 Axes>"
      ]
     },
     "metadata": {},
     "output_type": "display_data"
    }
   ],
   "source": [
    "plt.figure(figsize=(15,6))\n",
    "plt.plot(history.history['loss'])\n",
    "plt.plot(history.history['val_loss'])\n",
    "plt.title('Model Loss')\n",
    "plt.ylabel('loss')\n",
    "plt.xlabel('epochs')\n",
    "plt.legend(['Train','Val'], loc= 'upper left')\n",
    "plt.show()"
   ]
  },
  {
   "cell_type": "code",
   "execution_count": 37,
   "metadata": {},
   "outputs": [
    {
     "data": {
      "image/png": "[encoded data removed]",
      "text/plain": [
       "<Figure size 1500x500 with 1 Axes>"
      ]
     },
     "metadata": {},
     "output_type": "display_data"
    }
   ],
   "source": [
    "plt.figure(figsize=(15,5))\n",
    "plt.plot(history.history['accuracy'])\n",
    "plt.plot(history.history['val_accuracy'])\n",
    "plt.title('Model Accuracy')\n",
    "plt.ylabel('accuracy')\n",
    "plt.xlabel('epoch')\n",
    "plt.legend(['Train', 'Val'], loc='upper left')\n",
    "plt.show()"
   ]
  },
  {
   "cell_type": "code",
   "execution_count": 38,
   "metadata": {},
   "outputs": [
    {
     "name": "stdout",
     "output_type": "stream",
     "text": [
      "83/83 [==============================] - 10s 122ms/step\n",
      "83/83 [==============================] - 9s 112ms/step - loss: 0.4932 - accuracy: 0.8811\n"
     ]
    }
   ],
   "source": [
    "y_test_1 = test_generator.classes\n",
    "y_pred_1 = model.predict(test_generator)\n",
    "y_pred_1 = np.argmax(y_pred_1,axis=1)\n",
    "\n",
    "results =model.evaluate(test_generator)"
   ]
  }
 ],
 "metadata": {
  "kernelspec": {
   "display_name": "gpuJay",
   "language": "python",
   "name": "jaytf"
  },
  "language_info": {
   "codemirror_mode": {
    "name": "ipython",
    "version": 3
   },
   "file_extension": ".py",
   "mimetype": "text/x-python",
   "name": "python",
   "nbconvert_exporter": "python",
   "pygments_lexer": "ipython3",
   "version": "3.9.0"
  },
  "orig_nbformat": 4
 },
 "nbformat": 4,
 "nbformat_minor": 2
}
