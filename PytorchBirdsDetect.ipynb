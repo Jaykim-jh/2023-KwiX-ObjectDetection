{
 "cells": [
  {
   "cell_type": "code",
   "execution_count": 21,
   "metadata": {},
   "outputs": [],
   "source": [
    "# import package\n",
    "\n",
    "# model\n",
    "import torch\n",
    "import torch.nn as nn\n",
    "import torch.nn.functional as F\n",
    "from torchsummary import summary\n",
    "from torch import optim\n",
    "\n",
    "# dataset and transformation\n",
    "from torchvision import datasets\n",
    "import torchvision.transforms as transforms\n",
    "from torch.utils.data import DataLoader\n",
    "from torchvision import models\n",
    "import os\n",
    "\n",
    "# display images\n",
    "from torchvision import utils\n",
    "import matplotlib.pyplot as plt\n",
    "%matplotlib inline\n",
    "\n",
    "# utils\n",
    "import numpy as np\n",
    "from torchsummary import summary\n",
    "import time\n",
    "import copy"
   ]
  },
  {
   "cell_type": "code",
   "execution_count": 23,
   "metadata": {},
   "outputs": [
    {
     "name": "stdout",
     "output_type": "stream",
     "text": [
      "26\n",
      "26\n"
     ]
    }
   ],
   "source": [
    "# load dataset\n",
    "train_ds = \"C:\\Download/Birds525/train\"\n",
    "val_ds = \"C:\\Download/Birds525/valid\"\n",
    "\n",
    "print(len(train_ds))\n",
    "print(len(val_ds))"
   ]
  },
  {
   "cell_type": "code",
   "execution_count": 18,
   "metadata": {},
   "outputs": [
    {
     "ename": "AttributeError",
     "evalue": "'str' object has no attribute 'transform'",
     "output_type": "error",
     "traceback": [
      "\u001b[1;31m---------------------------------------------------------------------------\u001b[0m",
      "\u001b[1;31mAttributeError\u001b[0m                            Traceback (most recent call last)",
      "Cell \u001b[1;32mIn[18], line 5\u001b[0m\n\u001b[0;32m      2\u001b[0m transformation \u001b[39m=\u001b[39m transforms\u001b[39m.\u001b[39mCompose([transforms\u001b[39m.\u001b[39mToTensor(), transforms\u001b[39m.\u001b[39mResize(\u001b[39m224\u001b[39m)])\n\u001b[0;32m      4\u001b[0m \u001b[39m# apply transformation to dataset\u001b[39;00m\n\u001b[1;32m----> 5\u001b[0m train_ds\u001b[39m.\u001b[39;49mtransform \u001b[39m=\u001b[39m transformation\n\u001b[0;32m      6\u001b[0m val_ds\u001b[39m.\u001b[39mtransform \u001b[39m=\u001b[39m transformation\n\u001b[0;32m      8\u001b[0m \u001b[39m# make dataloade\u001b[39;00m\n",
      "\u001b[1;31mAttributeError\u001b[0m: 'str' object has no attribute 'transform'"
     ]
    }
   ],
   "source": [
    "# define transformation\n",
    "transformation = transforms.Compose([transforms.ToTensor(), transforms.Resize(224)])\n",
    "\n",
    "# apply transformation to dataset\n",
    "train_ds.transform = transformation\n",
    "val_ds.transform = transformation\n",
    "\n",
    "# make dataloade\n",
    "train_dl = DataLoader(train_ds, batch_size=32, shuffle=True)\n",
    "val_dl = DataLoader(val_ds, batch_size=32, shuffle=True)"
   ]
  },
  {
   "cell_type": "code",
   "execution_count": null,
   "metadata": {},
   "outputs": [],
   "source": [
    "# check sample images\n",
    "def show(img, y=None):\n",
    "    npimg = img.numpy()\n",
    "    npimg_tr = np.transpose(npimg, (1, 2, 0))\n",
    "    plt.imshow(npimg_tr)\n",
    "\n",
    "    if y is not None:\n",
    "        plt.title('labels:' + str(y))\n",
    "\n",
    "np.random.seed(10)\n",
    "torch.manual_seed(0)\n",
    "\n",
    "grid_size=4\n",
    "rnd_ind = np.random.randint(0, len(train_ds), grid_size)\n",
    "\n",
    "x_grid = [train_ds[i][0] for i in rnd_ind]\n",
    "y_grid = [val_ds[i][1] for i in rnd_ind]\n",
    "\n",
    "x_grid = utils.make_grid(x_grid, nrow=grid_size, padding=2)\n",
    "plt.figure(figsize=(10,10))\n",
    "show(x_grid, y_grid)"
   ]
  }
 ],
 "metadata": {
  "kernelspec": {
   "display_name": "use_gpu",
   "language": "python",
   "name": "kwixtf"
  },
  "language_info": {
   "codemirror_mode": {
    "name": "ipython",
    "version": 3
   },
   "file_extension": ".py",
   "mimetype": "text/x-python",
   "name": "python",
   "nbconvert_exporter": "python",
   "pygments_lexer": "ipython3",
   "version": "3.9.16"
  },
  "orig_nbformat": 4
 },
 "nbformat": 4,
 "nbformat_minor": 2
}
