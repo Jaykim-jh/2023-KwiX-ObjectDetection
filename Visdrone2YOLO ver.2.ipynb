{
 "cells": [
  {
   "cell_type": "code",
   "execution_count": null,
   "metadata": {},
   "outputs": [],
   "source": [
    "# @Author winston1214\n",
    "# <bbox_left>,<bbox_top>,<bbox_width>,<bbox_height>,<score>,<object_category>,<truncation>,<occlusion>\n",
    "\n",
    "import cv2\n",
    "import os\n",
    "import numpy as np\n",
    "train_path = 'VisDrone2019-DET-train/annotations/' # train annotation path\n",
    "train_ann = os.listdir(train_path)\n",
    "for idx,i in enumerate(train_ann):\n",
    "    data = open(train_path + train_ann[idx],'r')\n",
    "    ls = data.readlines()\n",
    "    ann_ls = list(map(lambda x: x[:-1],ls))\n",
    "    ann_ls = list(map(lambda x: x.split(','),ann_ls))\n",
    "    bbox_left = list(map(lambda x: x[0],ann_ls))\n",
    "    bbox_top = list(map(lambda x: x[1],ann_ls))\n",
    "    bbox_width = list(map(lambda x: x[2],ann_ls))\n",
    "    bbox_height = list(map(lambda x: x[3],ann_ls))\n",
    "    category = list(map(lambda x: x[5],ann_ls)) # 0 : pedestrian , 1 : person\n",
    "    img = 'VisDrone2019-DET-train/images/'+i.split('.')[0]+'.jpg'\n",
    "    img = cv2.imread(img) # because each image has a different shape.\n",
    "    h = img.shape[0]\n",
    "    w = img.shape[1]\n",
    "    center_x = (np.array(bbox_left,dtype=int) + np.array(bbox_width,dtype=int)/2)/w\n",
    "    center_y = (np.array(bbox_top,dtype=int) + np.array(bbox_height,dtype=int)/2)/h\n",
    "    yolo_width = np.array(bbox_width,dtype=int)/w\n",
    "    yolo_height = np.array(bbox_height,dtype=int)/h\n",
    "    for num,point in enumerate(category):\n",
    "        if point == '0' or point == '1': # label change point\n",
    "            with open('VisDrone2019-DET-train/yolo_annotations/'+i,'a') as f:\n",
    "                f.write('{} {} {} {} {}\\n'.format(point,center_x[num],center_y[num],yolo_width[num],yolo_height[num]))"
   ]
  }
 ],
 "metadata": {
  "kernelspec": {
   "display_name": "VSkwix",
   "language": "python",
   "name": "python3"
  },
  "language_info": {
   "name": "python",
   "version": "3.9.0"
  },
  "orig_nbformat": 4
 },
 "nbformat": 4,
 "nbformat_minor": 2
}
