{
 "cells": [
  {
   "cell_type": "code",
   "execution_count": null,
   "metadata": {},
   "outputs": [],
   "source": [
    "import yaml\n",
    "from ultralytics import YOLO"
   ]
  },
  {
   "cell_type": "code",
   "execution_count": null,
   "metadata": {},
   "outputs": [],
   "source": [
    "model = 'yolov5nu.pt'\n",
    "\n",
    "model.train(data = \"c:\\Download/VisDrone2019-DET/Visdrone.yaml\", )"
   ]
  }
 ],
 "metadata": {
  "kernelspec": {
   "display_name": "use_gpu",
   "language": "python",
   "name": "kwixtf"
  },
  "language_info": {
   "name": "python",
   "version": "3.9.16"
  },
  "orig_nbformat": 4
 },
 "nbformat": 4,
 "nbformat_minor": 2
}
